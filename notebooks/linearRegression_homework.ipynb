{
 "nbformat": 4,
 "nbformat_minor": 0,
 "metadata": {
  "kernelspec": {
   "display_name": "Python 3",
   "language": "python",
   "name": "python3"
  },
  "language_info": {
   "codemirror_mode": {
    "name": "ipython",
    "version": 3
   },
   "file_extension": ".py",
   "mimetype": "text/x-python",
   "name": "python",
   "nbconvert_exporter": "python",
   "pygments_lexer": "ipython3",
   "version": "3.7.4"
  },
  "year": "1920",
  "colab": {
   "name": "linearRegression_homework.ipynb",
   "provenance": []
  }
 },
 "cells": [
  {
   "cell_type": "markdown",
   "metadata": {
    "id": "CQnFimsAqSL7",
    "pycharm": {
     "name": "#%% md\n"
    }
   },
   "source": [
    "## Linear regression on the Boston House Prices dataset\n",
    "\n",
    "In this exercise, you will perform linear regression on the Boston House Prices dataset.\n",
    "\n",
    "This dataset contains median house prices in different areas around Boston. For each area, we have some information about it, that we will use as our features. We want to train a linear regression model that predicts the price of a house given the input features.\n",
    "\n",
    "We don't have direct access to the dataset from PyTorch, but the `scikit` library provides a version of it.\n",
    "\n",
    "An important part of the exercise will be to get used to process input dataset and translate it into a suitable format for your analysis."
   ]
  },
  {
   "cell_type": "code",
   "execution_count": 1,
   "outputs": [
    {
     "name": "stderr",
     "output_type": "stream",
     "text": [
      "C:\\Users\\utente\\miniconda3\\envs\\homework1\\lib\\site-packages\\sklearn\\utils\\deprecation.py:87: FutureWarning: Function load_boston is deprecated; `load_boston` is deprecated in 1.0 and will be removed in 1.2.\n",
      "\n",
      "    The Boston housing prices dataset has an ethical problem. You can refer to\n",
      "    the documentation of this function for further details.\n",
      "\n",
      "    The scikit-learn maintainers therefore strongly discourage the use of this\n",
      "    dataset unless the purpose of the code is to study and educate about\n",
      "    ethical issues in data science and machine learning.\n",
      "\n",
      "    In this special case, you can fetch the dataset from the original\n",
      "    source::\n",
      "\n",
      "        import pandas as pd\n",
      "        import numpy as np\n",
      "\n",
      "\n",
      "        data_url = \"http://lib.stat.cmu.edu/datasets/boston\"\n",
      "        raw_df = pd.read_csv(data_url, sep=\"\\s+\", skiprows=22, header=None)\n",
      "        data = np.hstack([raw_df.values[::2, :], raw_df.values[1::2, :2]])\n",
      "        target = raw_df.values[1::2, 2]\n",
      "\n",
      "    Alternative datasets include the California housing dataset (i.e.\n",
      "    :func:`~sklearn.datasets.fetch_california_housing`) and the Ames housing\n",
      "    dataset. You can load the datasets as follows::\n",
      "\n",
      "        from sklearn.datasets import fetch_california_housing\n",
      "        housing = fetch_california_housing()\n",
      "\n",
      "    for the California housing dataset and::\n",
      "\n",
      "        from sklearn.datasets import fetch_openml\n",
      "        housing = fetch_openml(name=\"house_prices\", as_frame=True)\n",
      "\n",
      "    for the Ames housing dataset.\n",
      "    \n",
      "  warnings.warn(msg, category=FutureWarning)\n"
     ]
    }
   ],
   "source": [
    "# Import dataset\n",
    "from sklearn.datasets import load_boston\n",
    "from sklearn.model_selection import train_test_split\n",
    "import torch\n",
    "import matplotlib.pyplot as plt\n",
    "import matplotlib\n",
    "import numpy as np\n",
    "\n",
    "dataset = load_boston()"
   ],
   "metadata": {
    "collapsed": false,
    "pycharm": {
     "name": "#%%\n"
    }
   }
  },
  {
   "cell_type": "code",
   "execution_count": 2,
   "outputs": [
    {
     "name": "stdout",
     "output_type": "stream",
     "text": [
      ".. _boston_dataset:\n",
      "\n",
      "Boston house prices dataset\n",
      "---------------------------\n",
      "\n",
      "**Data Set Characteristics:**  \n",
      "\n",
      "    :Number of Instances: 506 \n",
      "\n",
      "    :Number of Attributes: 13 numeric/categorical predictive. Median Value (attribute 14) is usually the target.\n",
      "\n",
      "    :Attribute Information (in order):\n",
      "        - CRIM     per capita crime rate by town\n",
      "        - ZN       proportion of residential land zoned for lots over 25,000 sq.ft.\n",
      "        - INDUS    proportion of non-retail business acres per town\n",
      "        - CHAS     Charles River dummy variable (= 1 if tract bounds river; 0 otherwise)\n",
      "        - NOX      nitric oxides concentration (parts per 10 million)\n",
      "        - RM       average number of rooms per dwelling\n",
      "        - AGE      proportion of owner-occupied units built prior to 1940\n",
      "        - DIS      weighted distances to five Boston employment centres\n",
      "        - RAD      index of accessibility to radial highways\n",
      "        - TAX      full-value property-tax rate per $10,000\n",
      "        - PTRATIO  pupil-teacher ratio by town\n",
      "        - B        1000(Bk - 0.63)^2 where Bk is the proportion of black people by town\n",
      "        - LSTAT    % lower status of the population\n",
      "        - MEDV     Median value of owner-occupied homes in $1000's\n",
      "\n",
      "    :Missing Attribute Values: None\n",
      "\n",
      "    :Creator: Harrison, D. and Rubinfeld, D.L.\n",
      "\n",
      "This is a copy of UCI ML housing dataset.\n",
      "https://archive.ics.uci.edu/ml/machine-learning-databases/housing/\n",
      "\n",
      "\n",
      "This dataset was taken from the StatLib library which is maintained at Carnegie Mellon University.\n",
      "\n",
      "The Boston house-price data of Harrison, D. and Rubinfeld, D.L. 'Hedonic\n",
      "prices and the demand for clean air', J. Environ. Economics & Management,\n",
      "vol.5, 81-102, 1978.   Used in Belsley, Kuh & Welsch, 'Regression diagnostics\n",
      "...', Wiley, 1980.   N.B. Various transformations are used in the table on\n",
      "pages 244-261 of the latter.\n",
      "\n",
      "The Boston house-price data has been used in many machine learning papers that address regression\n",
      "problems.   \n",
      "     \n",
      ".. topic:: References\n",
      "\n",
      "   - Belsley, Kuh & Welsch, 'Regression diagnostics: Identifying Influential Data and Sources of Collinearity', Wiley, 1980. 244-261.\n",
      "   - Quinlan,R. (1993). Combining Instance-Based and Model-Based Learning. In Proceedings on the Tenth International Conference of Machine Learning, 236-243, University of Massachusetts, Amherst. Morgan Kaufmann.\n",
      "\n"
     ]
    }
   ],
   "source": [
    "print(dataset['DESCR'])"
   ],
   "metadata": {
    "collapsed": false,
    "pycharm": {
     "name": "#%%\n"
    }
   }
  },
  {
   "cell_type": "markdown",
   "source": [
    "Play around with the `dataset` variable to see what it contains. It is a *dictionary*, i.e. a Python structure with key-value pairs, where the keys can be arbitrary objects --- usually strings. \n",
    "\n",
    "To access the item with key `key` from a dictionary `dictionary`, use the syntax `dictionary[key]`.\n",
    "\n",
    "The `keys()` method of a dictionary returns the set of keys. To start, try `print()`ing the contents of the the `DESCR` key."
   ],
   "metadata": {
    "collapsed": false,
    "pycharm": {
     "name": "#%% md\n"
    }
   }
  },
  {
   "cell_type": "markdown",
   "source": [
    "The data in the dataset are Numpy arrays. To convert them to PyTorch tensors, just pass the array as the single argument of the `torch.tensor()` function."
   ],
   "metadata": {
    "collapsed": false,
    "pycharm": {
     "name": "#%% md\n"
    }
   }
  },
  {
   "cell_type": "markdown",
   "source": [
    "From this point, prepare the data to process it as done in the previous exercise."
   ],
   "metadata": {
    "collapsed": false,
    "pycharm": {
     "name": "#%% md\n"
    }
   }
  },
  {
   "cell_type": "markdown",
   "source": [
    "## Tensor loading"
   ],
   "metadata": {
    "collapsed": false,
    "pycharm": {
     "name": "#%% md\n"
    }
   }
  },
  {
   "cell_type": "code",
   "execution_count": 3,
   "outputs": [],
   "source": [
    "tensor_data = torch.from_numpy(dataset['data'])\n",
    "tensor_target = torch.from_numpy(dataset['target'])\n",
    "if torch.cuda.is_available():\n",
    "    tensor_data = tensor_data.to('cuda')\n",
    "    tensor_target = tensor_target.to('cuda')\n"
   ],
   "metadata": {
    "collapsed": false,
    "pycharm": {
     "name": "#%%\n"
    }
   }
  },
  {
   "cell_type": "code",
   "execution_count": 4,
   "outputs": [
    {
     "name": "stdout",
     "output_type": "stream",
     "text": [
      "Data tensor size: torch.Size([506, 13])\n",
      "Target tensor size: torch.Size([506])\n"
     ]
    }
   ],
   "source": [
    "print(f'Data tensor size: {tensor_data.size()}\\nTarget tensor size: {tensor_target.size()}')"
   ],
   "metadata": {
    "collapsed": false,
    "pycharm": {
     "name": "#%%\n"
    }
   }
  },
  {
   "cell_type": "markdown",
   "source": [
    "### Correlations\n",
    "\n",
    "One of the things you may want to do is remove unnecessary features. For example, if you have two highly-correlated features, you could use only one of them.\n",
    "\n",
    "Feature correlation can be estimated using the Pearson correlation coefficient:\n",
    "\n",
    "$$\\text{corr}_{X_1,X_2} = \\frac{\\text{cov}(X_1,X_2)}{\\sigma_{X_1} \\sigma_{X_2}}$$\n",
    "\n",
    "where $\\text{cov}(X_1,X_2)$ is the covariance between features $X_1$ and $X_2$ (i.e., all values for that feature, from all observations), and $\\sigma_X$ is the standard deviation of feature $X$."
   ],
   "metadata": {
    "collapsed": false,
    "pycharm": {
     "name": "#%% md\n"
    }
   }
  },
  {
   "cell_type": "markdown",
   "source": [
    "All values $X_i$ are basically the columns of our data matrix. Given the vector `X_i` that contains all values for a feature, you can use the `X_i.std()` function to get the standard deviation of that vector.\n",
    "\n",
    "You can also use the variant of `std()` that takes an input `dim` argument to compute *all* standard deviations for each column in the full data matrix.\n",
    "\n",
    "To compute the covariance matrix, you are going to need to perform some computations. This is a good training exercise to learn how to manipulate tensors, while will be very useful later.\n",
    "\n",
    "Let's suppose your data matrix is `X`, where each row is an observation and each column is a feature.\n",
    "\n",
    "First of all, you will need to compute a vector `X_mean`, where each element is the mean value for each feature. To do this, you will need to use the `torch.mean()` or the `Tensor.mean()` function.\n",
    "\n",
    "From there, you have to subtract the mean vector to each observation in the data matrix. Note that PyTorch supports an operation called *broadcasting*. In practice, if `X` has size $n \\times d$, and if `X_mean` has size $d$ or $1 \\times d$, then `X - X_mean` will automatically subtract `X_mean` from each row in `X`.\n",
    "\n",
    "Finally, if $N$ is the number of observation and `X_cent` is the data matrix where the mean vector has been subtracted, you can compute the covariance matrix $\\Sigma$ as:\n",
    "\n",
    "$$\\Sigma = \\frac{X_{\\text{cent}}^T X_{\\text{cent}}}{N-1}$$\n",
    "\n",
    "Each element $\\Sigma_{ij}$ is going to be equal to $\\text{cov}(X_i,X_j)$. From those values and from the $\\sigma_i$ values, you can compute the correlation matrix."
   ],
   "metadata": {
    "collapsed": false,
    "pycharm": {
     "name": "#%% md\n"
    }
   }
  },
  {
   "cell_type": "code",
   "execution_count": 5,
   "outputs": [],
   "source": [
    "def heatmap(data, row_labels, col_labels, ax=None,\n",
    "            cbar_kw={}, cbarlabel=\"\", **kwargs):\n",
    "    \"\"\"\n",
    "    Create a heatmap from a numpy array and two lists of labels.\n",
    "\n",
    "    Parameters\n",
    "    ----------\n",
    "    data\n",
    "        A 2D numpy array of shape (M, N).\n",
    "    row_labels\n",
    "        A list or array of length M with the labels for the rows.\n",
    "    col_labels\n",
    "        A list or array of length N with the labels for the columns.\n",
    "    ax\n",
    "        A `matplotlib.axes.Axes` instance to which the heatmap is plotted.  If\n",
    "        not provided, use current axes or create a new one.  Optional.\n",
    "    cbar_kw\n",
    "        A dictionary with arguments to `matplotlib.Figure.colorbar`.  Optional.\n",
    "    cbarlabel\n",
    "        The label for the colorbar.  Optional.\n",
    "    **kwargs\n",
    "        All other arguments are forwarded to `imshow`.\n",
    "    \"\"\"\n",
    "\n",
    "    if not ax:\n",
    "        ax = plt.gca()\n",
    "\n",
    "    # Plot the heatmap\n",
    "    im = ax.imshow(data, **kwargs)\n",
    "\n",
    "    # Create colorbar\n",
    "    cbar = ax.figure.colorbar(im, ax=ax, **cbar_kw)\n",
    "    cbar.ax.set_ylabel(cbarlabel, rotation=-90, va=\"bottom\")\n",
    "\n",
    "    # Show all ticks and label them with the respective list entries.\n",
    "    ax.set_xticks(np.arange(data.shape[1]), labels=col_labels)\n",
    "    ax.set_yticks(np.arange(data.shape[0]), labels=row_labels)\n",
    "\n",
    "    # Let the horizontal axes labeling appear on top.\n",
    "    ax.tick_params(top=True, bottom=False,\n",
    "                   labeltop=True, labelbottom=False)\n",
    "\n",
    "    # Rotate the tick labels and set their alignment.\n",
    "    plt.setp(ax.get_xticklabels(), rotation=-30, ha=\"right\",\n",
    "             rotation_mode=\"anchor\")\n",
    "\n",
    "    # Turn spines off and create white grid.\n",
    "    ax.spines[:].set_visible(False)\n",
    "\n",
    "    ax.set_xticks(np.arange(data.shape[1] + 1) - .5, minor=True)\n",
    "    ax.set_yticks(np.arange(data.shape[0] + 1) - .5, minor=True)\n",
    "    ax.grid(which=\"minor\", color=\"w\", linestyle='-', linewidth=3)\n",
    "    ax.tick_params(which=\"minor\", bottom=False, left=False)\n",
    "\n",
    "    return im, cbar\n",
    "\n",
    "\n",
    "def annotate_heatmap(im, data=None, valfmt=\"{x:.2f}\",\n",
    "                     textcolors=(\"black\", \"white\"),\n",
    "                     threshold=None, double_sided_threshold=False, **textkw):\n",
    "    \"\"\"\n",
    "    A function to annotate a heatmap.\n",
    "\n",
    "    Parameters\n",
    "    ----------\n",
    "    im\n",
    "        The AxesImage to be labeled.\n",
    "    data\n",
    "        Data used to annotate.  If None, the image's data is used.  Optional.\n",
    "    valfmt\n",
    "        The format of the annotations inside the heatmap.  This should either\n",
    "        use the string format method, e.g. \"$ {x:.2f}\", or be a\n",
    "        `matplotlib.ticker.Formatter`.  Optional.\n",
    "    textcolors\n",
    "        A pair of colors.  The first is used for values below a threshold,\n",
    "        the second for those above.  Optional.\n",
    "    threshold\n",
    "        Value in data units according to which the colors from textcolors are\n",
    "        applied.  If None (the default) uses the middle of the colormap as\n",
    "        separation.  Optional.\n",
    "    double_sided_threshold\n",
    "        Toggle double-sided threshold.\n",
    "    **kwargs\n",
    "        All other arguments are forwarded to each call to `text` used to create\n",
    "        the text labels.\n",
    "    \"\"\"\n",
    "\n",
    "    if not isinstance(data, (list, np.ndarray)):\n",
    "        data = im.get_array()\n",
    "\n",
    "    # Normalize the threshold to the images color range.\n",
    "    if threshold is not None and not double_sided_threshold:\n",
    "        threshold1 = im.norm(threshold)\n",
    "    elif threshold is None:\n",
    "        threshold1 = im.norm(data.max()) / 2.\n",
    "    else:\n",
    "        threshold1 = im.norm(threshold)\n",
    "        threshold2 = im.norm(-threshold)\n",
    "\n",
    "    # Set default alignment to center, but allow it to be\n",
    "    # overwritten by textkw.\n",
    "    kw = dict(horizontalalignment=\"center\",\n",
    "              verticalalignment=\"center\")\n",
    "    kw.update(textkw)\n",
    "\n",
    "    # Get the formatter in case a string is supplied\n",
    "    if isinstance(valfmt, str):\n",
    "        valfmt = matplotlib.ticker.StrMethodFormatter(valfmt)\n",
    "\n",
    "    # Loop over the data and create a `Text` for each \"pixel\".\n",
    "    # Change the text's color depending on the data.\n",
    "    texts = []\n",
    "    for i in range(data.shape[0]):\n",
    "        for j in range(data.shape[1]):\n",
    "            kw.update(color=textcolors[\n",
    "                int(im.norm(data[i, j]) > threshold1 or (double_sided_threshold and im.norm(data[i, j]) < threshold2))])\n",
    "            text = im.axes.text(j, i, valfmt(data[i, j], None), **kw)\n",
    "            texts.append(text)\n",
    "\n",
    "    return texts\n",
    "\n",
    "\n",
    "def format_func(x, pos):\n",
    "    return \"{:.2f}\".format(x).replace(\"0.\", \".\").replace(\"1.00\", \"\")"
   ],
   "metadata": {
    "collapsed": false,
    "pycharm": {
     "name": "#%%\n"
    }
   }
  },
  {
   "cell_type": "code",
   "execution_count": 6,
   "outputs": [],
   "source": [
    "# Perform covariance matrix calculation\n",
    "data_mean = tensor_data.mean(0)\n",
    "cov_mat_ij = ((tensor_data - data_mean).T @ (tensor_data - data_mean)) / (tensor_data.size(0))\n",
    "diagonal = cov_mat_ij.diag()\n",
    "stddev = diagonal.sqrt()"
   ],
   "metadata": {
    "collapsed": false,
    "pycharm": {
     "name": "#%%\n"
    }
   }
  },
  {
   "cell_type": "code",
   "execution_count": 7,
   "outputs": [
    {
     "name": "stdout",
     "output_type": "stream",
     "text": [
      "Real correlation coefficient matrix:\n",
      "tensor([[ 1.0000, -0.2005,  0.4066, -0.0559,  0.4210, -0.2192,  0.3527, -0.3797,\n",
      "          0.6255,  0.5828,  0.2899, -0.3851,  0.4556],\n",
      "        [-0.2005,  1.0000, -0.5338, -0.0427, -0.5166,  0.3120, -0.5695,  0.6644,\n",
      "         -0.3119, -0.3146, -0.3917,  0.1755, -0.4130],\n",
      "        [ 0.4066, -0.5338,  1.0000,  0.0629,  0.7637, -0.3917,  0.6448, -0.7080,\n",
      "          0.5951,  0.7208,  0.3832, -0.3570,  0.6038],\n",
      "        [-0.0559, -0.0427,  0.0629,  1.0000,  0.0912,  0.0913,  0.0865, -0.0992,\n",
      "         -0.0074, -0.0356, -0.1215,  0.0488, -0.0539],\n",
      "        [ 0.4210, -0.5166,  0.7637,  0.0912,  1.0000, -0.3022,  0.7315, -0.7692,\n",
      "          0.6114,  0.6680,  0.1889, -0.3801,  0.5909],\n",
      "        [-0.2192,  0.3120, -0.3917,  0.0913, -0.3022,  1.0000, -0.2403,  0.2052,\n",
      "         -0.2098, -0.2920, -0.3555,  0.1281, -0.6138],\n",
      "        [ 0.3527, -0.5695,  0.6448,  0.0865,  0.7315, -0.2403,  1.0000, -0.7479,\n",
      "          0.4560,  0.5065,  0.2615, -0.2735,  0.6023],\n",
      "        [-0.3797,  0.6644, -0.7080, -0.0992, -0.7692,  0.2052, -0.7479,  1.0000,\n",
      "         -0.4946, -0.5344, -0.2325,  0.2915, -0.4970],\n",
      "        [ 0.6255, -0.3119,  0.5951, -0.0074,  0.6114, -0.2098,  0.4560, -0.4946,\n",
      "          1.0000,  0.9102,  0.4647, -0.4444,  0.4887],\n",
      "        [ 0.5828, -0.3146,  0.7208, -0.0356,  0.6680, -0.2920,  0.5065, -0.5344,\n",
      "          0.9102,  1.0000,  0.4609, -0.4418,  0.5440],\n",
      "        [ 0.2899, -0.3917,  0.3832, -0.1215,  0.1889, -0.3555,  0.2615, -0.2325,\n",
      "          0.4647,  0.4609,  1.0000, -0.1774,  0.3740],\n",
      "        [-0.3851,  0.1755, -0.3570,  0.0488, -0.3801,  0.1281, -0.2735,  0.2915,\n",
      "         -0.4444, -0.4418, -0.1774,  1.0000, -0.3661],\n",
      "        [ 0.4556, -0.4130,  0.6038, -0.0539,  0.5909, -0.6138,  0.6023, -0.4970,\n",
      "          0.4887,  0.5440,  0.3740, -0.3661,  1.0000]], dtype=torch.float64)\n"
     ]
    },
    {
     "data": {
      "text/plain": "<Figure size 576x432 with 2 Axes>",
      "image/png": "[encoded data removed]"
     },
     "metadata": {
      "needs_background": "light"
     },
     "output_type": "display_data"
    }
   ],
   "source": [
    "# Real correlation matrix\n",
    "corr_coeff = cov_mat_ij / stddev.view(-1, 1) / stddev.view(1, -1)\n",
    "print('Real correlation coefficient matrix:\\n' + str(corr_coeff))\n",
    "_, ax = plt.subplots(figsize=(8, 6))\n",
    "im, _ = heatmap(corr_coeff.to('cpu'), dataset['feature_names'], dataset['feature_names'], ax=ax, cmap='PuOr',\n",
    "                cbarlabel='correlation coefficient', vmin=-1, vmax=1)\n",
    "annotate_heatmap(im, valfmt=matplotlib.ticker.FuncFormatter(format_func), textcolors=('black', 'white'), threshold=0.65,\n",
    "                 double_sided_threshold=True)\n",
    "plt.tight_layout()"
   ],
   "metadata": {
    "collapsed": false,
    "pycharm": {
     "name": "#%%\n"
    }
   }
  },
  {
   "cell_type": "markdown",
   "source": [
    "## Correlation matrix interpretation\n",
    "In the correlation matrix, all the values above 0.65 and below -0.65 are in *white* color so that we can distinguish them easily.\n",
    "\n",
    "Because of strong correlations with other features, in this case we can remove the following features:\n",
    "- NOX\n",
    "- TAX\n",
    "- DIS"
   ],
   "metadata": {
    "collapsed": false,
    "pycharm": {
     "name": "#%% md\n"
    }
   }
  },
  {
   "cell_type": "code",
   "execution_count": 8,
   "outputs": [],
   "source": [
    "def calculate_mse(input_tensor, test_size_percentage=0.30):\n",
    "    \"\"\"\n",
    "    Split dataset, apply Least Squares method and return train and test MSE\n",
    "\n",
    "    :param input_tensor: tensor containing the input data\n",
    "    :param test_size_percentage: percentage (from 0 to 1) of the test dataset\n",
    "    :return: train MSE and test MSE\n",
    "    \"\"\"\n",
    "    # Perform random dataset splitting (by default, 30% will be the test dataset)\n",
    "    split_train_data, split_test_data, split_train_target, split_test_target = train_test_split(input_tensor,\n",
    "                                                                                                dataset['target'],\n",
    "                                                                                                test_size=test_size_percentage,\n",
    "                                                                                                random_state=42)\n",
    "    split_train_target = torch.from_numpy(split_train_target)\n",
    "    split_test_target = torch.from_numpy(split_test_target)\n",
    "    if torch.cuda.is_available():\n",
    "        split_train_target = split_train_target.to('cuda')\n",
    "        split_test_target = split_test_target.to('cuda')\n",
    "\n",
    "    # Perform least-squares method\n",
    "    beta = (split_train_data.T @ split_train_data).inverse() @ split_train_data.T @ split_train_target\n",
    "\n",
    "    # Calculating the MSE from training data and testing data\n",
    "    train_mse = (((split_train_target - split_train_data @ beta) ** 2).sum() / split_train_target.size(0)).item()\n",
    "    test_mse = (((split_test_target - split_test_data @ beta) ** 2).sum() / split_test_target.size(0)).item()\n",
    "    return train_mse, test_mse"
   ],
   "metadata": {
    "collapsed": false,
    "pycharm": {
     "name": "#%%\n"
    }
   }
  },
  {
   "cell_type": "code",
   "execution_count": 9,
   "outputs": [],
   "source": [
    "# Here we filter the original tensor by excluding the indices corresponding to the features NOX, TAX and DIS from the second dimension\n",
    "tensor_filter = [i for i, item in enumerate(dataset['feature_names']) if\n",
    "                 item != 'NOX' and item != 'TAX' and item != 'DIS']\n",
    "filtered_tensor = tensor_data[:, tensor_filter]"
   ],
   "metadata": {
    "collapsed": false,
    "pycharm": {
     "name": "#%%\n"
    }
   }
  },
  {
   "cell_type": "code",
   "execution_count": 10,
   "outputs": [
    {
     "name": "stdout",
     "output_type": "stream",
     "text": [
      "*   MSE metrics after removing features: NOX, TAX and DIS   *\n",
      "*\t\t*******\t\t*******\t\t*******\t\t*******\t\t\t*\n",
      "*\t\tTrain MSE: \t25.5833850663775\t\t\t\t\t\t*\n",
      "*\t\tTest MSE: \t27.031279643029034\t\t\t\t\t\t*\n",
      "*\t\t*******\t\t*******\t\t*******\t\t*******\t\t\t*\n"
     ]
    }
   ],
   "source": [
    "# Calculating the MSE from training data and testing data\n",
    "train_mse, test_mse = calculate_mse(filtered_tensor, 0.30)\n",
    "print('*   MSE metrics after removing features: NOX, TAX and DIS   *\\n'\n",
    "      '*\\t\\t*******\\t\\t*******\\t\\t*******\\t\\t*******\\t\\t\\t*')\n",
    "print(f'*\\t\\tTrain MSE: \\t{train_mse}\\t\\t\\t\\t\\t\\t*\\n*\\t\\tTest MSE: \\t{test_mse}\\t\\t\\t\\t\\t\\t*\\n'\n",
    "      f'*\\t\\t*******\\t\\t*******\\t\\t*******\\t\\t*******\\t\\t\\t*')"
   ],
   "metadata": {
    "collapsed": false,
    "pycharm": {
     "name": "#%%\n"
    }
   }
  },
  {
   "cell_type": "markdown",
   "metadata": {
    "id": "XoJnxVjDqSMA",
    "pycharm": {
     "name": "#%% md\n"
    }
   },
   "source": [
    "An additional test you can carry out is to see which feature mostly correlate *with the targets*, to see which features are most important for regression.\n",
    "\n",
    "**Note that you should do this on the training set only. You can't look at the test set during training.**\n",
    "\n",
    "To do so, you can create an \"extended\" data matrix `data_ext` where the targets have been added as a new feature column. Then you can run the correlation analysis to see which features are mostly related."
   ]
  },
  {
   "cell_type": "markdown",
   "metadata": {
    "id": "Yp0cDlRQqSMA",
    "pycharm": {
     "name": "#%% md\n"
    }
   },
   "source": [
    "Finally, run some tests by:\n",
    "\n",
    "- Computing the accuracy of your model when you remove/keep features that correlate with each other.\n",
    "- Computing the accuracy of your model when you remove/keep features that correlate with the targets."
   ]
  }
 ]
}