{
 "nbformat": 4,
 "nbformat_minor": 0,
 "metadata": {
  "kernelspec": {
   "display_name": "Python 3",
   "language": "python",
   "name": "python3"
  },
  "language_info": {
   "codemirror_mode": {
    "name": "ipython",
    "version": 3
   },
   "file_extension": ".py",
   "mimetype": "text/x-python",
   "name": "python",
   "nbconvert_exporter": "python",
   "pygments_lexer": "ipython3",
   "version": "3.7.4"
  },
  "year": "1920",
  "colab": {
   "name": "linearRegression_homework.ipynb",
   "provenance": []
  }
 },
 "cells": [
  {
   "cell_type": "markdown",
   "metadata": {
    "id": "CQnFimsAqSL7",
    "pycharm": {
     "name": "#%% md\n"
    }
   },
   "source": [
    "## Linear regression on the Boston House Prices dataset\n",
    "\n",
    "In this exercise, you will perform linear regression on the Boston House Prices dataset.\n",
    "\n",
    "This dataset contains median house prices in different areas around Boston. For each area, we have some information about it, that we will use as our features. We want to train a linear regression model that predicts the price of a house given the input features.\n",
    "\n",
    "We don't have direct access to the dataset from PyTorch, but the `scikit` library provides a version of it.\n",
    "\n",
    "An important part of the exercise will be to get used to process input dataset and translate it into a suitable format for your analysis."
   ]
  },
  {
   "cell_type": "code",
   "metadata": {
    "id": "whWUYQNlqSL8",
    "colab": {
     "base_uri": "https://localhost:8080/"
    },
    "outputId": "0c1f5032-ce16-421e-852e-365dd07ffa0a",
    "pycharm": {
     "name": "#%%\n"
    }
   },
   "source": [
    "# Import dataset\n",
    "from sklearn.datasets import fetch_california_housing\n",
    "import torch\n",
    "import matplotlib.pyplot as plt\n",
    "import numpy as np\n",
    "dataset = fetch_california_housing()"
   ],
   "execution_count": 91,
   "outputs": []
  },
  {
   "cell_type": "code",
   "metadata": {
    "colab": {
     "base_uri": "https://localhost:8080/"
    },
    "id": "4nvcMhlhCJVg",
    "outputId": "ffbccecc-a917-43f4-b99e-4276096b7d62",
    "pycharm": {
     "name": "#%%\n"
    }
   },
   "source": [
    "print(dataset['DESCR'])"
   ],
   "execution_count": 3,
   "outputs": [
    {
     "name": "stdout",
     "output_type": "stream",
     "text": [
      ".. _california_housing_dataset:\n",
      "\n",
      "California Housing dataset\n",
      "--------------------------\n",
      "\n",
      "**Data Set Characteristics:**\n",
      "\n",
      "    :Number of Instances: 20640\n",
      "\n",
      "    :Number of Attributes: 8 numeric, predictive attributes and the target\n",
      "\n",
      "    :Attribute Information:\n",
      "        - MedInc        median income in block group\n",
      "        - HouseAge      median house age in block group\n",
      "        - AveRooms      average number of rooms per household\n",
      "        - AveBedrms     average number of bedrooms per household\n",
      "        - Population    block group population\n",
      "        - AveOccup      average number of household members\n",
      "        - Latitude      block group latitude\n",
      "        - Longitude     block group longitude\n",
      "\n",
      "    :Missing Attribute Values: None\n",
      "\n",
      "This dataset was obtained from the StatLib repository.\n",
      "https://www.dcc.fc.up.pt/~ltorgo/Regression/cal_housing.html\n",
      "\n",
      "The target variable is the median house value for California districts,\n",
      "expressed in hundreds of thousands of dollars ($100,000).\n",
      "\n",
      "This dataset was derived from the 1990 U.S. census, using one row per census\n",
      "block group. A block group is the smallest geographical unit for which the U.S.\n",
      "Census Bureau publishes sample data (a block group typically has a population\n",
      "of 600 to 3,000 people).\n",
      "\n",
      "An household is a group of people residing within a home. Since the average\n",
      "number of rooms and bedrooms in this dataset are provided per household, these\n",
      "columns may take surpinsingly large values for block groups with few households\n",
      "and many empty houses, such as vacation resorts.\n",
      "\n",
      "It can be downloaded/loaded using the\n",
      ":func:`sklearn.datasets.fetch_california_housing` function.\n",
      "\n",
      ".. topic:: References\n",
      "\n",
      "    - Pace, R. Kelley and Ronald Barry, Sparse Spatial Autoregressions,\n",
      "      Statistics and Probability Letters, 33 (1997) 291-297\n",
      "\n"
     ]
    }
   ]
  },
  {
   "cell_type": "markdown",
   "metadata": {
    "id": "EV-9lmQXqSL9",
    "pycharm": {
     "name": "#%% md\n"
    }
   },
   "source": [
    "Play around with the `dataset` variable to see what it contains. It is a *dictionary*, i.e. a Python structure with key-value pairs, where the keys can be arbitrary objects --- usually strings. \n",
    "\n",
    "To access the item with key `key` from a dictionary `dictionary`, use the syntax `dictionary[key]`.\n",
    "\n",
    "The `keys()` method of a dictionary returns the set of keys. To start, try `print()`ing the contents of the the `DESCR` key."
   ]
  },
  {
   "cell_type": "markdown",
   "metadata": {
    "id": "_v5DR158qSL-",
    "pycharm": {
     "name": "#%% md\n"
    }
   },
   "source": [
    "The data in the dataset are Numpy arrays. To convert them to PyTorch tensors, just pass the array as the single argument of the `torch.tensor()` function."
   ]
  },
  {
   "cell_type": "markdown",
   "metadata": {
    "id": "2nBUAJhPqSL-",
    "pycharm": {
     "name": "#%% md\n"
    }
   },
   "source": [
    "From this point, prepare the data to process it as done in the previous exercise."
   ]
  },
  {
   "cell_type": "markdown",
   "metadata": {
    "id": "cQ3Q4RmJqSL-",
    "pycharm": {
     "name": "#%% md\n"
    }
   },
   "source": [
    "## Squeeze and unsqueeze"
   ]
  },
  {
   "cell_type": "code",
   "execution_count": 92,
   "outputs": [],
   "source": [
    "tensor_data = torch.from_numpy(dataset['data'])\n",
    "if torch.cuda.is_available():\n",
    "    tensor_data = tensor_data.to('cuda')\n"
   ],
   "metadata": {
    "collapsed": false,
    "pycharm": {
     "name": "#%%\n"
    }
   }
  },
  {
   "cell_type": "code",
   "execution_count": 129,
   "outputs": [
    {
     "data": {
      "text/plain": "torch.Size([20640, 8])"
     },
     "execution_count": 129,
     "metadata": {},
     "output_type": "execute_result"
    }
   ],
   "source": [
    "tensor_data.size()"
   ],
   "metadata": {
    "collapsed": false,
    "pycharm": {
     "name": "#%%\n"
    }
   }
  },
  {
   "cell_type": "code",
   "execution_count": 83,
   "outputs": [
    {
     "name": "stdout",
     "output_type": "stream",
     "text": [
      "squeezed tensor:\n",
      "tensor([[0., 0.],\n",
      "        [0., 0.]])\n",
      "squeezed tensor size: torch.Size([2, 2])\n",
      "\n",
      "unsqueezed tensor:\n",
      "tensor([[[0., 0.]],\n",
      "\n",
      "        [[0., 0.]]])\n",
      "unsqueezed tensor size: torch.Size([2, 1, 2])\n"
     ]
    }
   ],
   "source": [
    "temp=torch.zeros(1, 2, 1, 2)\n",
    "print('original tensor:\\n' + str(temp))\n",
    "print('original tensor size: ' + str(temp.size()))\n",
    "temp3 = temp.squeeze()\n",
    "print()\n",
    "print('squeezed tensor:\\n' + str(temp3))\n",
    "print('squeezed tensor size: ' + str(temp3.size()))\n",
    "temp4 = temp3.unsqueeze(1)\n",
    "print()\n",
    "print('unsqueezed tensor:\\n' + str(temp4))\n",
    "print('unsqueezed tensor size: ' + str(temp4.size()))"
   ],
   "metadata": {
    "collapsed": false,
    "pycharm": {
     "name": "#%%\n"
    }
   }
  },
  {
   "cell_type": "markdown",
   "source": [
    "### Correlations\n",
    "\n",
    "One of the things you may want to do is remove unnecessary features. For example, if you have two highly-correlated features, you could use only one of them.\n",
    "\n",
    "Feature correlation can be estimated using the Pearson correlation coefficient:\n",
    "\n",
    "$$\\text{corr}_{X_1,X_2} = \\frac{\\text{cov}(X_1,X_2)}{\\sigma_{X_1} \\sigma_{X_2}}$$\n",
    "\n",
    "where $\\text{cov}(X_1,X_2)$ is the covariance between features $X_1$ and $X_2$ (i.e., all values for that feature, from all observations), and $\\sigma_X$ is the standard deviation of feature $X$."
   ],
   "metadata": {
    "collapsed": false,
    "pycharm": {
     "name": "#%% md\n"
    }
   }
  },
  {
   "cell_type": "markdown",
   "metadata": {
    "id": "xucCJEXCqSL_",
    "pycharm": {
     "name": "#%% md\n"
    }
   },
   "source": [
    "All values $X_i$ are basically the columns of our data matrix. Given the vector `X_i` that contains all values for a feature, you can use the `X_i.std()` function to get the standard deviation of that vector.\n",
    "\n",
    "You can also use the variant of `std()` that takes an input `dim` argument to compute *all* standard deviations for each column in the full data matrix.\n",
    "\n",
    "To compute the covariance matrix, you are going to need to perform some computations. This is a good training exercise to learn how to manipulate tensors, while will be very useful later.\n",
    "\n",
    "Let's suppose your data matrix is `X`, where each row is an observation and each column is a feature.\n",
    "\n",
    "First of all, you will need to compute a vector `X_mean`, where each element is the mean value for each feature. To do this, you will need to use the `torch.mean()` or the `Tensor.mean()` function.\n",
    "\n",
    "From there, you have to subtract the mean vector to each observation in the data matrix. Note that PyTorch supports an operation called *broadcasting*. In practice, if `X` has size $n \\times d$, and if `X_mean` has size $d$ or $1 \\times d$, then `X - X_mean` will automatically subtract `X_mean` from each row in `X`.\n",
    "\n",
    "Finally, if $N$ is the number of observation and `X_cent` is the data matrix where the mean vector has been subtracted, you can compute the covariance matrix $\\Sigma$ as:\n",
    "\n",
    "$$\\Sigma = \\frac{X_{\\text{cent}}^T X_{\\text{cent}}}{N-1}$$\n",
    "\n",
    "Each element $\\Sigma_{ij}$ is going to be equal to $\\text{cov}(X_i,X_j)$. From those values and from the $\\sigma_i$ values, you can compute the correlation matrix."
   ]
  },
  {
   "cell_type": "code",
   "execution_count": 128,
   "outputs": [
    {
     "name": "stdout",
     "output_type": "stream",
     "text": [
      "correlation coefficient:\n",
      "tensor([[ 1., -1.],\n",
      "        [-1.,  1.]])\n"
     ]
    },
    {
     "data": {
      "text/plain": "<Figure size 432x288 with 1 Axes>",
      "image/png": "[encoded data removed]"
     },
     "metadata": {
      "needs_background": "light"
     },
     "output_type": "display_data"
    }
   ],
   "source": [
    "temp = torch.tensor([[0,1,2], [2,1,0]])\n",
    "\n",
    "plt.plot(temp[0], temp[1])\n",
    "\n",
    "corr_coeff = torch.corrcoef(temp)\n",
    "print('correlation coefficient:\\n' + str(corr_coeff))"
   ],
   "metadata": {
    "collapsed": false,
    "pycharm": {
     "name": "#%%\n"
    }
   }
  },
  {
   "cell_type": "code",
   "execution_count": 150,
   "outputs": [
    {
     "name": "stdout",
     "output_type": "stream",
     "text": [
      "Real correlation coefficient matrix:\n",
      "tensor([[ 1.0000, -0.1190,  0.3269, -0.0620,  0.0048,  0.0188, -0.0798, -0.0152],\n",
      "        [-0.1190,  1.0000, -0.1533, -0.0777, -0.2962,  0.0132,  0.0112, -0.1082],\n",
      "        [ 0.3269, -0.1533,  1.0000,  0.8476, -0.0722, -0.0049,  0.1064, -0.0275],\n",
      "        [-0.0620, -0.0777,  0.8476,  1.0000, -0.0662, -0.0062,  0.0697,  0.0133],\n",
      "        [ 0.0048, -0.2962, -0.0722, -0.0662,  1.0000,  0.0699, -0.1088,  0.0998],\n",
      "        [ 0.0188,  0.0132, -0.0049, -0.0062,  0.0699,  1.0000,  0.0024,  0.0025],\n",
      "        [-0.0798,  0.0112,  0.1064,  0.0697, -0.1088,  0.0024,  1.0000, -0.9247],\n",
      "        [-0.0152, -0.1082, -0.0275,  0.0133,  0.0998,  0.0025, -0.9247,  1.0000]],\n",
      "       device='cuda:0', dtype=torch.float64)\n"
     ]
    },
    {
     "data": {
      "text/plain": "<matplotlib.image.AxesImage at 0x1db3d1b5940>"
     },
     "execution_count": 150,
     "metadata": {},
     "output_type": "execute_result"
    },
    {
     "data": {
      "text/plain": "<Figure size 288x288 with 1 Axes>",
      "image/png": "[encoded data removed]"
     },
     "metadata": {
      "needs_background": "light"
     },
     "output_type": "display_data"
    }
   ],
   "source": [
    "# Real correlation matrix\n",
    "corr_coeff = torch.corrcoef(tensor_data.T)\n",
    "print('Real correlation coefficient matrix:\\n' + str(corr_coeff))\n",
    "plt.matshow(corr_coeff.to('cpu'), cmap='inferno')"
   ],
   "metadata": {
    "collapsed": false,
    "pycharm": {
     "name": "#%%\n"
    }
   }
  },
  {
   "cell_type": "markdown",
   "metadata": {
    "id": "6p8nDja4qSL_",
    "pycharm": {
     "name": "#%% md\n"
    }
   },
   "source": [
    "AOnce you have a correlation matrix `corr`, you can visualize it using the following code."
   ]
  },
  {
   "cell_type": "code",
   "metadata": {
    "id": "JkseHNsKqSMA",
    "colab": {
     "base_uri": "https://localhost:8080/",
     "height": 595
    },
    "outputId": "ae4207eb-c636-4364-95ed-1576d8c49c10",
    "pycharm": {
     "name": "#%%\n"
    }
   },
   "source": [
    "# Create random correlation matrix\n",
    "corr = torch.rand(10, 10)*2 - 1\n",
    "# Plot matrix\n",
    "plt.figure(figsize=(10, 10))\n",
    "ax = plt.gca() #get axix from figure\n",
    "ax.matshow(corr, cmap=plt.cm.bwr) #matshow() Display an array as a matrix\n",
    "\n",
    "for i in range(corr.size(0)):\n",
    "    for j in range(corr.size(1)):\n",
    "        c = f\"{corr[i,j].item():.2f}\"\n",
    "        ax.text(j, i, str(c), va='center', ha='center')\n"
   ],
   "execution_count": 6,
   "outputs": [
    {
     "output_type": "display_data",
     "data": {
      "text/plain": [
       "<Figure size 720x720 with 1 Axes>"
      ],
      "image/png": "[encoded data removed]"
     },
     "metadata": {
      "needs_background": "light"
     }
    }
   ]
  },
  {
   "cell_type": "markdown",
   "metadata": {
    "id": "XoJnxVjDqSMA",
    "pycharm": {
     "name": "#%% md\n"
    }
   },
   "source": [
    "An additional test you can carry out is to see which feature mostly correlate *with the targets*, to see which features are most important for regression.\n",
    "\n",
    "**Note that you should do this on the training set only. You can't look at the test set during training.**\n",
    "\n",
    "To do so, you can create an \"extended\" data matrix `data_ext` where the targets have been added as a new feature column. Then you can run the correlation analysis to see which features are mostly related."
   ]
  },
  {
   "cell_type": "markdown",
   "metadata": {
    "id": "Yp0cDlRQqSMA",
    "pycharm": {
     "name": "#%% md\n"
    }
   },
   "source": [
    "Finally, run some tests by:\n",
    "\n",
    "- Computing the accuracy of your model when you remove/keep features that correlate with each other.\n",
    "- Computing the accuracy of your model when you remove/keep features that correlate with the targets."
   ]
  }
 ]
}